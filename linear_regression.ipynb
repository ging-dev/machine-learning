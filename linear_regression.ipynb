{
 "cells": [
  {
   "cell_type": "markdown",
   "metadata": {},
   "source": [
    "## Linear Regression (Machine Learning)\n",
    "<img src=\"media/anya.png\" height=\"120px\">\n"
   ]
  },
  {
   "cell_type": "code",
   "execution_count": 9,
   "metadata": {},
   "outputs": [],
   "source": [
    "import numpy as np\n",
    "\n",
    "# for pretty print\n",
    "from tabulate import tabulate\n",
    "\n",
    "# typing\n",
    "from typing import Any\n",
    "from numpy._typing import (\n",
    "    NDArray\n",
    ")\n",
    "\n",
    "# print output (Note: debugger)\n",
    "def show(name: str, matrix: NDArray[Any]) -> None:\n",
    "    print(f\"{name}=\")\n",
    "    print(tabulate(matrix, tablefmt=\"fancy_grid\"))\n"
   ]
  },
  {
   "cell_type": "markdown",
   "metadata": {},
   "source": [
    "Cho bộ dữ liệu đầu vào:\n",
    "\n",
    "| Weight | Height |\n",
    "|--------|--------|\n",
    "| 49     | 147    |\n",
    "| 50     | 150    |\n",
    "| 51     | 153    |\n",
    "| 54     | 168    |\n",
    "| 58     | 163    |\n",
    "| 59     | 165    |\n",
    "\n",
    "Dự đoán cân nặng theo chiều cao:\n",
    "\n",
    "(cân_nặng) = (chiều_cao)*w_1 + w_0"
   ]
  },
  {
   "cell_type": "code",
   "execution_count": 12,
   "metadata": {},
   "outputs": [
    {
     "name": "stdout",
     "output_type": "stream",
     "text": [
      "X=\n",
      "╒═══╤═════╕\n",
      "│ 1 │ 147 │\n",
      "├───┼─────┤\n",
      "│ 1 │ 150 │\n",
      "├───┼─────┤\n",
      "│ 1 │ 153 │\n",
      "├───┼─────┤\n",
      "│ 1 │ 158 │\n",
      "├───┼─────┤\n",
      "│ 1 │ 163 │\n",
      "├───┼─────┤\n",
      "│ 1 │ 165 │\n",
      "╘═══╧═════╛\n",
      "Y=\n",
      "╒════╕\n",
      "│ 49 │\n",
      "├────┤\n",
      "│ 50 │\n",
      "├────┤\n",
      "│ 51 │\n",
      "├────┤\n",
      "│ 54 │\n",
      "├────┤\n",
      "│ 58 │\n",
      "├────┤\n",
      "│ 59 │\n",
      "╘════╛\n",
      "w=\n",
      "╒════════════╕\n",
      "│ -37.1      │\n",
      "├────────────┤\n",
      "│   0.580769 │\n",
      "╘════════════╛\n",
      "w_0=-37.100000000001444, w_1=0.5807692307692158\n"
     ]
    }
   ],
   "source": [
    "X = np.array([np.ones(6), [147, 150, 153, 158, 163, 165]]).T\n",
    "y = np.array([[49, 50, 51,  54, 58, 59]]).T\n",
    "\n",
    "show(\"X\", X)\n",
    "show(\"Y\", y)\n",
    "\n",
    "# least squares\n",
    "w = np.dot(np.dot(np.linalg.inv(np.dot(X.T, X)), X.T), y)\n",
    "\n",
    "show(\"w\", w)\n",
    "\n",
    "w_0, w_1 = w[0, 0], w[1,0]\n",
    "\n",
    "print(f\"w_0={w_0}, w_1={w_1}\")\n"
   ]
  },
  {
   "cell_type": "markdown",
   "metadata": {},
   "source": []
  }
 ],
 "metadata": {
  "kernelspec": {
   "display_name": "Python 3.10.6 64-bit",
   "language": "python",
   "name": "python3"
  },
  "language_info": {
   "codemirror_mode": {
    "name": "ipython",
    "version": 3
   },
   "file_extension": ".py",
   "mimetype": "text/x-python",
   "name": "python",
   "nbconvert_exporter": "python",
   "pygments_lexer": "ipython3",
   "version": "3.10.6"
  },
  "orig_nbformat": 4,
  "vscode": {
   "interpreter": {
    "hash": "916dbcbb3f70747c44a77c7bcd40155683ae19c65e1c03b4aa3499c5328201f1"
   }
  }
 },
 "nbformat": 4,
 "nbformat_minor": 2
}
